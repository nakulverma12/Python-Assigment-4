{
  "nbformat": 4,
  "nbformat_minor": 0,
  "metadata": {
    "colab": {
      "provenance": []
    },
    "kernelspec": {
      "name": "python3",
      "display_name": "Python 3"
    },
    "language_info": {
      "name": "python"
    }
  },
  "cells": [
    {
      "cell_type": "markdown",
      "source": [
        "# ***Theory Questions -***"
      ],
      "metadata": {
        "id": "7gUvWxGhGnGz"
      }
    },
    {
      "cell_type": "markdown",
      "source": [
        "**1. What is Object-Oriented Programming (OOP) ?**"
      ],
      "metadata": {
        "id": "pVV68cRhSsLM"
      }
    },
    {
      "cell_type": "markdown",
      "source": [
        "Object-Oriented Programming (OOP) is a programming paradigm (a way of structuring and writing code) that is based on the concept of objects. These objects represent real-world entities and combine both data (attributes) and behavior (methods or functions) in a single unit."
      ],
      "metadata": {
        "id": "mm5ynRd4S8fy"
      }
    },
    {
      "cell_type": "markdown",
      "source": [
        "**Key Concepts of OOP :-**\n",
        "\n",
        "(1) Class -  \n",
        "\n",
        "* A blueprint or template for creating objects.\n",
        "\n",
        "* Defines the attributes (variables) and methods (functions) that the objects created from the class will have.\n"
      ],
      "metadata": {
        "id": "N8GUpcnnTIMd"
      }
    },
    {
      "cell_type": "markdown",
      "source": [
        "(2) Object -\n",
        "\n",
        "\n",
        "* An instance of a class.\n",
        "\n",
        "* Represents a specific entity with its own state (data stored in attributes) and behavior (methods it can perform).\n"
      ],
      "metadata": {
        "id": "aJIP5S_fT1Ww"
      }
    },
    {
      "cell_type": "markdown",
      "source": [
        "(3) Encapsulation -\n",
        "\n",
        "* The bundling of data and methods into a single unit (class).\n",
        "\n",
        "* Restricts direct access to some of an object's components to protect data integrity.\n"
      ],
      "metadata": {
        "id": "EtRLaJOqUFHl"
      }
    },
    {
      "cell_type": "markdown",
      "source": [
        "(4) Abstraction -\n",
        "\n",
        "* Hiding the complex implementation details and exposing only the essential features to the user.\n",
        "\n",
        "* Focuses on what an object does rather than how it does it.\n"
      ],
      "metadata": {
        "id": "RLj9ztruUjww"
      }
    },
    {
      "cell_type": "markdown",
      "source": [
        "(5) Inheritance -\n",
        "\n",
        "* A mechanism to create a new class (child class) from an existing class (parent class).\n",
        "\n",
        "* The child class inherits attributes and methods from the parent, allowing code reusability.\n"
      ],
      "metadata": {
        "id": "EeRkbqrYU22J"
      }
    },
    {
      "cell_type": "markdown",
      "source": [
        "(6) Polymorphism -\n",
        "\n",
        "* The ability of an object to take on many forms.\n",
        "\n",
        "* For example, the same method name can behave differently depending on the object that calls it .\n",
        "\n"
      ],
      "metadata": {
        "id": "fkfIV-AaVJkj"
      }
    },
    {
      "cell_type": "code",
      "source": [
        "# Class definition\n",
        "class Humans:\n",
        "    def __init__(self, name):\n",
        "        self.name = name  # Attribute\n",
        "\n",
        "    def speak(self):  # Method\n",
        "        return \"Some sound\"\n",
        "\n",
        "# Inheritance\n",
        "class Boy(Humans):\n",
        "    def speak(self):  # Polymorphism (method overriding)\n",
        "        return \"I am a boy!\"\n",
        "\n",
        "class Girl(Humans):\n",
        "    def speak(self):\n",
        "        return \"I am a girl!\"\n",
        "\n",
        "# Creating objects\n",
        "Boy = Boy(\"Varun\")\n",
        "Girl = Girl(\"Tanya\")\n",
        "\n",
        "print(Boy.name, \"says\", Boy.speak())\n",
        "print(Girl.name, \"says\", Girl.speak())\n"
      ],
      "metadata": {
        "colab": {
          "base_uri": "https://localhost:8080/"
        },
        "id": "X3cJofMrVkdQ",
        "outputId": "f9778985-198f-4994-f825-589104a716f1"
      },
      "execution_count": null,
      "outputs": [
        {
          "output_type": "stream",
          "name": "stdout",
          "text": [
            "Varun says I am a boy!\n",
            "Tanya says I am a girl!\n"
          ]
        }
      ]
    },
    {
      "cell_type": "markdown",
      "source": [
        "**2. What is a class in OOP ?**\n",
        "\n",
        "In Object-Oriented Programming (OOP), a class is a blueprint or template used to create objects.\n",
        "\n",
        "It defines what an object will have (attributes/properties) and what it can do (methods/behaviors), but it does not represent any real-world entity by itself. An object is created (instantiated) from a class."
      ],
      "metadata": {
        "id": "Je5PnAMNXCMU"
      }
    },
    {
      "cell_type": "markdown",
      "source": [
        "**Key Points about a Class -**\n",
        "\n",
        "* A class groups together data (attributes/variables) and functions (methods) that operate on that data.\n",
        "\n",
        "* It does not occupy memory until an object is created from it.\n",
        "\n",
        "* One class can create multiple objects, each with its own data.\n"
      ],
      "metadata": {
        "id": "IJpG2DpktFAP"
      }
    },
    {
      "cell_type": "code",
      "source": [
        "# Defining a class\n",
        "class Car:\n",
        "    # Constructor method (runs when a new object is created)\n",
        "    def __init__(self, brand, model):\n",
        "        self.brand = brand   # Attribute\n",
        "        self.model = model   # Attribute\n",
        "\n",
        "    # Method (behavior)\n",
        "    def drive(self):\n",
        "        return f\"{self.brand} {self.model} is driving!\"\n",
        "\n",
        "# Creating objects (instances of the class)\n",
        "car1 = Car(\"Toyota\", \"Corolla\")\n",
        "car2 = Car(\"Tesla\", \"Model S\")\n",
        "\n",
        "# Accessing attributes and methods\n",
        "print(car1.brand)       # Toyota\n",
        "print(car2.model)       # Model S\n",
        "print(car1.drive())     # Toyota Corolla is driving!\n"
      ],
      "metadata": {
        "colab": {
          "base_uri": "https://localhost:8080/"
        },
        "id": "k4r36MKXvRNr",
        "outputId": "818c344d-55bd-4e15-af2e-c03921ec8986"
      },
      "execution_count": null,
      "outputs": [
        {
          "output_type": "stream",
          "name": "stdout",
          "text": [
            "Toyota\n",
            "Model S\n",
            "Toyota Corolla is driving!\n"
          ]
        }
      ]
    },
    {
      "cell_type": "markdown",
      "source": [
        "**3. What is an object in OOP ?**\n",
        "\n",
        "\n",
        "* State (Attributes/Properties):-\n",
        "\n",
        "The data or variables that describe the object.\n",
        "\n",
        "Example: A Car object may have attributes like color, model, and speed.\n",
        "\n",
        "* Behavior (Methods / Function):-\n",
        "\n",
        "The actions or operations the object can perform.\n",
        "\n",
        "\n",
        "Example: A Car object may have methods like start(), stop(), or accelerate()."
      ],
      "metadata": {
        "id": "Acm3GJGcIEph"
      }
    },
    {
      "cell_type": "code",
      "source": [
        "class Car:\n",
        "    def __init__(self, color, model):\n",
        "        self.color = color\n",
        "        self.model = model\n",
        "\n",
        "    def drive(self):\n",
        "        print(f\"The {self.color} {self.model} is driving.\")\n",
        "\n",
        "# Creating objects (instances of the class Car)\n",
        "car1 = Car(\"Red\", \"Tesla\")\n",
        "car2 = Car(\"Blue\", \"BMW\")\n",
        "\n",
        "# Accessing object properties and methods\n",
        "print(car1.color)   # Output: Red\n",
        "car1.drive()        # Output: The Red Tesla is driving.\n",
        "\n"
      ],
      "metadata": {
        "colab": {
          "base_uri": "https://localhost:8080/"
        },
        "id": "NuqrK0eJKHsW",
        "outputId": "0769bf26-fdaa-4551-9dbe-50739f583d00"
      },
      "execution_count": null,
      "outputs": [
        {
          "output_type": "stream",
          "name": "stdout",
          "text": [
            "Red\n",
            "The Red Tesla is driving.\n"
          ]
        }
      ]
    },
    {
      "cell_type": "markdown",
      "source": [
        "**4. What is the difference between abstraction and encapsulation ?**"
      ],
      "metadata": {
        "id": "ltoDIJ2lKmi2"
      }
    },
    {
      "cell_type": "markdown",
      "source": [
        "Both abstraction and encapsulation are core principles of Object-Oriented Programming (OOP), but they serve different purposes."
      ],
      "metadata": {
        "id": "OKqaYpb-K59q"
      }
    },
    {
      "cell_type": "markdown",
      "source": [
        "Abstraction :-\n",
        "\n",
        "* Definition - Hiding the implementation details and showing only the essential features of an object.\n",
        "\n",
        "* Goal - Focus on what an object does, not how it does it.  \n",
        "\n",
        "* Achieved by -\n",
        "\n",
        "> Abstract classes\n",
        "\n",
        "> Interfaces (in some languages)\n",
        "\n",
        "> Methods that specify functionality but hide implementation\n",
        "\n",
        "\n",
        "Example"
      ],
      "metadata": {
        "id": "NjP0TFqoLAb2"
      }
    },
    {
      "cell_type": "code",
      "source": [
        "from abc import ABC, abstractmethod\n",
        "\n",
        "class Vehicle(ABC):  # Abstract class\n",
        "    @abstractmethod\n",
        "    def move(self):\n",
        "        pass\n",
        "\n",
        "class Car(Vehicle):\n",
        "    def move(self):\n",
        "        print(\"Car drives on the road.\")\n",
        "\n",
        "class Airplane(Vehicle):\n",
        "    def move(self):\n",
        "        print(\"Airplane flies in the sky.\")\n",
        "\n",
        "# Usage\n",
        "v1 = Car()\n",
        "v1.move()  # Car drives on the road.\n",
        "\n",
        "v2 = Airplane()\n",
        "v2.move()  # Airplane flies in the sky.\n"
      ],
      "metadata": {
        "colab": {
          "base_uri": "https://localhost:8080/"
        },
        "id": "IduOSTwSSQv5",
        "outputId": "335f8ca3-cc36-402c-949d-77401a72b36a"
      },
      "execution_count": null,
      "outputs": [
        {
          "output_type": "stream",
          "name": "stdout",
          "text": [
            "Car drives on the road.\n",
            "Airplane flies in the sky.\n"
          ]
        }
      ]
    },
    {
      "cell_type": "markdown",
      "source": [
        "Encapsulation :-  \n",
        "\n",
        "* Definition - Wrapping data (attributes) and code (methods) together into a single unit (class), and restricting direct access to some components.\n",
        "\n",
        "* Goal - Control access to data and protect the internal state of objects.\n",
        "\n",
        "* Achieved by -\n",
        "\n",
        "> Access modifiers (public, private, protected – depending on language)\n",
        "\n",
        "> Getters and setters\n",
        "\n",
        "\n",
        "Example -\n"
      ],
      "metadata": {
        "id": "PUNYTZWDSaEC"
      }
    },
    {
      "cell_type": "code",
      "source": [
        "class BankAccount:\n",
        "    def __init__(self, balance):\n",
        "        self.__balance = balance   # private variable\n",
        "\n",
        "    def deposit(self, amount):\n",
        "        self.__balance += amount\n",
        "\n",
        "    def get_balance(self):\n",
        "        return self.__balance\n",
        "\n",
        "# Usage\n",
        "account = BankAccount(1000)\n",
        "account.deposit(500)\n",
        "print(account.get_balance())  # 1500\n"
      ],
      "metadata": {
        "colab": {
          "base_uri": "https://localhost:8080/"
        },
        "id": "GkzlqF1CTQf2",
        "outputId": "5d5bfdf2-68cd-4ef0-b526-0fceb09859a4"
      },
      "execution_count": null,
      "outputs": [
        {
          "output_type": "stream",
          "name": "stdout",
          "text": [
            "1500\n"
          ]
        }
      ]
    },
    {
      "cell_type": "markdown",
      "source": [
        "**5. What are dunder methods in Python ?**\n",
        "\n"
      ],
      "metadata": {
        "id": "K5DKeB4xTjeg"
      }
    },
    {
      "cell_type": "markdown",
      "source": [
        "In Python, dunder methods (short for “double underscore methods”) are special methods that start and end with double underscores (__method__).\n",
        "\n",
        "Example -\n",
        "\n",
        "(1) Object Initialization -"
      ],
      "metadata": {
        "id": "YJMMgMIuTygO"
      }
    },
    {
      "cell_type": "code",
      "source": [
        "class Person:\n",
        "    def __init__(self, name, age):  # called when object is created\n",
        "        self.name = name\n",
        "        self.age = age\n"
      ],
      "metadata": {
        "id": "IPy2JRiJURtc"
      },
      "execution_count": null,
      "outputs": []
    },
    {
      "cell_type": "markdown",
      "source": [
        "(2) String Representation -"
      ],
      "metadata": {
        "id": "Iz2n73V_UU9X"
      }
    },
    {
      "cell_type": "code",
      "source": [
        "class Person:\n",
        "    def __init__(self, name):\n",
        "        self.name = name\n",
        "\n",
        "    def __str__(self):   # called by str() or print()\n",
        "        return f\"Person name: {self.name}\"\n",
        "\n",
        "p = Person(\"Alice\")\n",
        "print(p)   # Person name: Alice\n"
      ],
      "metadata": {
        "colab": {
          "base_uri": "https://localhost:8080/"
        },
        "id": "3plyj-NcUdYD",
        "outputId": "4e5b44ed-2c7b-45e3-91a5-ad42a52d00d0"
      },
      "execution_count": null,
      "outputs": [
        {
          "output_type": "stream",
          "name": "stdout",
          "text": [
            "Person name: Alice\n"
          ]
        }
      ]
    },
    {
      "cell_type": "markdown",
      "source": [
        "(3)  Operator Overloading -"
      ],
      "metadata": {
        "id": "oTvy26WXUh5p"
      }
    },
    {
      "cell_type": "code",
      "source": [
        "class Point:\n",
        "    def __init__(self, x, y):\n",
        "        self.x = x\n",
        "        self.y = y\n",
        "\n",
        "    def __add__(self, other):   # called when using +\n",
        "        return Point(self.x + other.x, self.y + other.y)\n",
        "\n",
        "    def __repr__(self):   # developer-friendly representation\n",
        "        return f\"Point({self.x}, {self.y})\"\n",
        "\n",
        "p1 = Point(2, 3)\n",
        "p2 = Point(4, 5)\n",
        "print(p1 + p2)   # Point(6, 8)\n"
      ],
      "metadata": {
        "colab": {
          "base_uri": "https://localhost:8080/"
        },
        "id": "BsZtbfaiUqEI",
        "outputId": "7a51b80e-d94a-497e-b4e5-2d8a69b8792f"
      },
      "execution_count": null,
      "outputs": [
        {
          "output_type": "stream",
          "name": "stdout",
          "text": [
            "Point(6, 8)\n"
          ]
        }
      ]
    },
    {
      "cell_type": "markdown",
      "source": [
        "**6. Explain the concept of inheritance in OOP .**"
      ],
      "metadata": {
        "id": "ytk7w5TLUvbY"
      }
    },
    {
      "cell_type": "markdown",
      "source": [
        "Inheritance in Object-Oriented Programming (OOP) is a mechanism that allows one class (called the child class or subclass) to acquire the properties and behaviors (attributes and methods) of another class (called the parent class or superclass).\n",
        "\n",
        "It promotes code reusability, extensibility, and establishes a natural hierarchical relationship between classes.\n"
      ],
      "metadata": {
        "id": "JK8uNKcBEb-M"
      }
    },
    {
      "cell_type": "markdown",
      "source": [
        "### ***Key points about Inheritance : -***"
      ],
      "metadata": {
        "id": "if_IBg4jFZMM"
      }
    },
    {
      "cell_type": "markdown",
      "source": [
        "(1) Parent Class(Base Class/Superclass) -\n",
        "\n",
        "* The class whose features are inherited.\n",
        "\n",
        "Example : `Animal`\n"
      ],
      "metadata": {
        "id": "kaQipepEGHw2"
      }
    },
    {
      "cell_type": "markdown",
      "source": [
        "(2) Child Class(Derived Class/Subclass) -\n",
        "\n",
        "* The class that inherits features from the parent class.\n",
        "\n",
        "Example : `Dog`(Inherits from `Animal`)\n",
        "\n"
      ],
      "metadata": {
        "id": "hbCrTNIHG1Xc"
      }
    },
    {
      "cell_type": "markdown",
      "source": [
        "(3) Access -\n",
        "\n",
        "* The child class can use the attributes and methods of the parent class.\n",
        "\n",
        "* The child class can also define its own additional attributes and methods.\n",
        "\n",
        "* The child class can override methods from the parent class.\n",
        "\n",
        "\n",
        "Example :-\n"
      ],
      "metadata": {
        "id": "U2fJ7sj4Hier"
      }
    },
    {
      "cell_type": "code",
      "source": [
        "# Parent class\n",
        "class Animal:\n",
        "    def speak(self):\n",
        "        print(\"This animal makes a sound\")\n",
        "\n",
        "# Child class\n",
        "class Dog(Animal):\n",
        "    def speak(self):  # Method overriding\n",
        "        print(\"The dog barks\")\n",
        "\n",
        "# Usage\n",
        "a = Animal()\n",
        "a.speak()   # Output: This animal makes a sound\n",
        "\n",
        "d = Dog()\n",
        "d.speak()   # Output: The dog barks\n"
      ],
      "metadata": {
        "colab": {
          "base_uri": "https://localhost:8080/"
        },
        "id": "V5otg-IyIDvZ",
        "outputId": "bf88d394-19d5-484d-a6b3-9c7e20377749"
      },
      "execution_count": null,
      "outputs": [
        {
          "output_type": "stream",
          "name": "stdout",
          "text": [
            "This animal makes a sound\n",
            "The dog barks\n"
          ]
        }
      ]
    },
    {
      "cell_type": "markdown",
      "source": [
        "### ***Types of Ingeritance (in OOP):-***"
      ],
      "metadata": {
        "id": "uiVwq-F7ILpA"
      }
    },
    {
      "cell_type": "markdown",
      "source": [
        "\n",
        "\n",
        "> `Single Inheritance` – Child inherits from one parent.\n",
        "\n",
        "> `Multiple Inheritance` – Child inherits from multiple parents\n",
        "\n",
        "> `Multilevel Inheritance` – A class inherits from a child class, forming a chain.\n",
        "\n",
        "> `Hierarchical Inheritance` – Multiple classes inherit from the same parent.\n",
        "\n",
        "> `Hybrid Inheritance` – Combination of two or more types of inheritance.\n"
      ],
      "metadata": {
        "id": "dJir1-DxIbiw"
      }
    },
    {
      "cell_type": "markdown",
      "source": [
        "**7. What is polymorphism in OOP ?**\n",
        "\n",
        "**Polymorphism in OOP**\n",
        "\n",
        "The word Polymorphism comes from Greek: “poly” = many, “morph” = forms.\n",
        "\n",
        "In Object-Oriented Programming (OOP), polymorphism means the ability of a single function, method, or operator to behave differently based on the object it is acting upon.\n",
        "\n",
        "* Same method name, but different implementations depending on the class or context.\n",
        "\n",
        "* Makes code flexible, reusable, and extensible."
      ],
      "metadata": {
        "id": "lx-a487aJKO7"
      }
    },
    {
      "cell_type": "markdown",
      "source": [
        "### ***Types of Polymorphism -***"
      ],
      "metadata": {
        "id": "XtP_UuivJ9X7"
      }
    },
    {
      "cell_type": "markdown",
      "source": [
        "(1) Compile-time Polymorphism(Static Polymorphism) -\n",
        "\n",
        "* Achieved through method overloading or operator overloading.\n",
        "\n",
        "Example - Using + for both numbers (addition) and strings (concatenation).\n",
        "\n"
      ],
      "metadata": {
        "id": "NpWJx4g4KH_O"
      }
    },
    {
      "cell_type": "markdown",
      "source": [
        "(2) Run-time Polymorphism(Dynamic Polymorphism) -\n",
        "\n",
        "* Achieved through method overriding (a subclass provides its own implementation of a method defined in the parent class).\n",
        "\n",
        "\n",
        "Example -\n"
      ],
      "metadata": {
        "id": "i_I3hqPDKqY_"
      }
    },
    {
      "cell_type": "code",
      "source": [
        "# Example of runtime polymorphism (method overriding)\n",
        "\n",
        "class Animal:\n",
        "    def speak(self):\n",
        "        print(\"This animal makes a sound\")\n",
        "\n",
        "class Dog(Animal):\n",
        "    def speak(self):   # Overriding\n",
        "        print(\"The dog barks\")\n",
        "\n",
        "class Cat(Animal):\n",
        "    def speak(self):   # Overriding\n",
        "        print(\"The cat meows\")\n",
        "\n",
        "# Using polymorphism\n",
        "animals = [Dog(), Cat(), Animal()]\n",
        "\n",
        "for animal in animals:\n",
        "    animal.speak()\n"
      ],
      "metadata": {
        "colab": {
          "base_uri": "https://localhost:8080/"
        },
        "id": "IjwtWKoJLBJy",
        "outputId": "382f26d2-b6a2-4922-e398-fc7bb36a89d6"
      },
      "execution_count": null,
      "outputs": [
        {
          "output_type": "stream",
          "name": "stdout",
          "text": [
            "The dog barks\n",
            "The cat meows\n",
            "This animal makes a sound\n"
          ]
        }
      ]
    },
    {
      "cell_type": "markdown",
      "source": [
        "**8. How is encapsulation achieved in Python ?**"
      ],
      "metadata": {
        "id": "NGEYEacCLHVy"
      }
    },
    {
      "cell_type": "markdown",
      "source": [
        "***Encapsulation in Python -***\n",
        "\n",
        "Encapsulation is an OOP principle that means restricting direct access to the internal details of an object and only exposing what is necessary.\n",
        "\n",
        "It helps in data hiding and protecting the object’s state from unintended interference."
      ],
      "metadata": {
        "id": "bKACfJsILWP2"
      }
    },
    {
      "cell_type": "markdown",
      "source": [
        "(1) Access Modifiers(naming conventions)-\n",
        "\n",
        "* Public - accessible everywhere.\n",
        "\n",
        "* Protected - prefix with _ (single underscore). Meant for internal use but still accessible.\n",
        "\n",
        "* Private - prefix with __ (double underscore). Makes attributes/methods harder to access from outside.\n",
        "\n",
        "\n",
        "(2) Getter and setter Methods(property decorators) -\n",
        "\n",
        "* Used to control how attributes are read or modified.\n",
        "\n",
        "\n",
        "Example - Access Modifiers"
      ],
      "metadata": {
        "id": "BXsWcUF2LweC"
      }
    },
    {
      "cell_type": "code",
      "source": [
        "class Person:\n",
        "    def __init__(self, name, age):\n",
        "        self.name = name      # Public attribute\n",
        "        self._address = \"7, Geeta colony, Garh Road, Meerut\" # Protected attribute\n",
        "        self.__salary = 100000    # Private attribute\n",
        "\n",
        "p = Person(\"Nakul Kumar Verma\", 25)\n",
        "print(p.name)\n",
        "print(p._address)\n",
        "# print(p.__salary)\n",
        "\n",
        "# But private attributes can still be accessed like this (name mangling):\n",
        "print(p._Person__salary)"
      ],
      "metadata": {
        "colab": {
          "base_uri": "https://localhost:8080/"
        },
        "id": "juWrZnO6M2KF",
        "outputId": "001f8203-d944-495d-b336-2b9d79c8d978"
      },
      "execution_count": null,
      "outputs": [
        {
          "output_type": "stream",
          "name": "stdout",
          "text": [
            "Nakul Kumar Verma\n",
            "7, Geeta colony, Garh Road, Meerut\n",
            "100000\n"
          ]
        }
      ]
    },
    {
      "cell_type": "markdown",
      "source": [
        "**9. What is a constructor is Python ?**"
      ],
      "metadata": {
        "id": "bt6gaT5VQcql"
      }
    },
    {
      "cell_type": "markdown",
      "source": [
        "In Python, a constructor is a special method that is automatically called when an object of a class is created.\n",
        "\n",
        "The constructor method in Python is defined using the `__init__()` dunder (double underscore) method."
      ],
      "metadata": {
        "id": "xNKGPiqwRTq-"
      }
    },
    {
      "cell_type": "markdown",
      "source": [
        "### ***Key points about constructor in Python :***\n",
        "\n",
        "(1) Purpose :\n",
        "\n",
        "* Used to initialize the attributes (data members) of a class when an object is created.\n",
        "\n",
        "* Ensures each object starts with proper values.\n",
        "\n"
      ],
      "metadata": {
        "id": "5URcRZBpRcS4"
      }
    },
    {
      "cell_type": "markdown",
      "source": [
        "(2) Syntax :"
      ],
      "metadata": {
        "id": "2IdWA3h5Ti7t"
      }
    },
    {
      "cell_type": "code",
      "source": [
        "class ClassName:\n",
        "    def __init__(self, parameters):\n",
        "        # initialize attributes\n",
        "        self.attribute = parameters\n"
      ],
      "metadata": {
        "id": "ZuvQBkNxTtIa"
      },
      "execution_count": null,
      "outputs": []
    },
    {
      "cell_type": "markdown",
      "source": [
        "(3) Example :"
      ],
      "metadata": {
        "id": "4f_sb2bVTxqc"
      }
    },
    {
      "cell_type": "code",
      "source": [
        "class Student:\n",
        "    def __init__(self, name, age):\n",
        "        self.name = name\n",
        "        self.age = age\n",
        "\n",
        "# Creating objects\n",
        "s1 = Student(\"Nakul\", 25)\n",
        "s2 = Student(\"Komal\", 23)\n",
        "\n",
        "print(s1.name, s1.age)  # Output: Alice 20\n",
        "print(s2.name, s2.age)  # Output: Bob 22\n"
      ],
      "metadata": {
        "colab": {
          "base_uri": "https://localhost:8080/"
        },
        "id": "rzD_Ex7rT1w1",
        "outputId": "3705fa81-784f-452b-e2e1-13dc46ab3b9e"
      },
      "execution_count": null,
      "outputs": [
        {
          "output_type": "stream",
          "name": "stdout",
          "text": [
            "Nakul 25\n",
            "Komal 23\n"
          ]
        }
      ]
    },
    {
      "cell_type": "markdown",
      "source": [
        "(4) Default Constructor :\n",
        "\n",
        "If you don’t define `__init__()`, Python provides a default constructor that does nothing but create the object."
      ],
      "metadata": {
        "id": "Egkj4yeNUKCz"
      }
    },
    {
      "cell_type": "markdown",
      "source": [
        "(5) Types of Constructors :\n",
        "\n",
        "* Default constructor - No arguments except `self`.\n",
        "\n",
        "* Parameterized constructor - Accepts parameters to initialize attributes.\n",
        "\n"
      ],
      "metadata": {
        "id": "7ZP6-iTgUXng"
      }
    },
    {
      "cell_type": "markdown",
      "source": [
        "**10. What are class and static methods in Python ?**\n",
        "\n",
        "In Python, a method inside a class can be one of three types :\n",
        "\n",
        "* Instance methods (the usual once, that take `self`)\n",
        "\n",
        "* Class Methods (that take `cls`)\n",
        "\n",
        "* Static methods (don't take `self` or `cls`)"
      ],
      "metadata": {
        "id": "re-G6f2fVUZm"
      }
    },
    {
      "cell_type": "markdown",
      "source": [
        "(1) Class Methods -\n",
        "\n",
        "* Defined using the` @classmethod `decorator.\n",
        "\n",
        "* Take `cls` as the first parameter (refers to the class, not the object).\n",
        "\n",
        "* Can access/modify class-level data (shared across all objects).\n",
        "\n",
        "\n",
        "* Often used as factory methods (alternative ways to create objects).\n",
        "\n",
        "Example -"
      ],
      "metadata": {
        "id": "21DLUFIXXEF1"
      }
    },
    {
      "cell_type": "code",
      "source": [
        "class Student:\n",
        "    school_name = \"MPGS\"  # Class variable\n",
        "\n",
        "    def __init__(self, name, age):\n",
        "        self.name = name\n",
        "        self.age = age\n",
        "\n",
        "    @classmethod\n",
        "    def change_school(cls, new_name):\n",
        "        cls.school_name = new_name\n",
        "\n",
        "# Usage\n",
        "print(Student.school_name)  # ABC School\n",
        "Student.change_school(\"DAV\")\n",
        "print(Student.school_name)  # XYZ School\n"
      ],
      "metadata": {
        "colab": {
          "base_uri": "https://localhost:8080/"
        },
        "id": "09LBrodBYBbq",
        "outputId": "60fd32d6-95ad-4097-baa4-e6aae892e9a5"
      },
      "execution_count": null,
      "outputs": [
        {
          "output_type": "stream",
          "name": "stdout",
          "text": [
            "MPGS\n",
            "DAV\n"
          ]
        }
      ]
    },
    {
      "cell_type": "markdown",
      "source": [
        "(2) Static Methods -\n",
        "\n",
        "* Defined using the `@staticmethod `decorator.\n",
        "\n",
        "* Do not take `self` or `cls` automatically.\n",
        "\n",
        "* Behave like normal functions but are grouped inside a class for better organization.\n",
        "\n",
        "\n",
        "* Used when a function is related to a class but does not need object (`self`) or class (`cls`) data.\n",
        "\n",
        "\n",
        "Example -"
      ],
      "metadata": {
        "id": "e2gXoQ-1dMUa"
      }
    },
    {
      "cell_type": "code",
      "source": [
        "class MathUtils:\n",
        "    @staticmethod\n",
        "    def add(a, b):\n",
        "        return a + b\n",
        "\n",
        "    @staticmethod\n",
        "    def is_even(num):\n",
        "        return num % 2 == 0\n",
        "\n",
        "# Usage\n",
        "print(MathUtils.add(10, 20))     # 30\n",
        "print(MathUtils.is_even(4))      # True\n"
      ],
      "metadata": {
        "colab": {
          "base_uri": "https://localhost:8080/"
        },
        "id": "eML4vr15ec5b",
        "outputId": "124363b9-b2cf-479f-f2bb-76015df478ea"
      },
      "execution_count": null,
      "outputs": [
        {
          "output_type": "stream",
          "name": "stdout",
          "text": [
            "30\n",
            "True\n"
          ]
        }
      ]
    },
    {
      "cell_type": "markdown",
      "source": [
        "**11. What is method overloading in Python ?**\n",
        "\n",
        " Python does NOT support traditional method overloading like Java or C++.\n",
        "\n",
        "If you define multiple methods with the same name in a class, the latest definition overwrites the previous ones."
      ],
      "metadata": {
        "id": "v0Fi1yL3ekJ_"
      }
    },
    {
      "cell_type": "code",
      "source": [
        "class Example:\n",
        "    def greet(self, name):\n",
        "        print(\"Hello\", name)\n",
        "\n",
        "    def greet(self):   # This overwrites the first one\n",
        "        print(\"Hello\")\n",
        "\n",
        "obj = Example()\n",
        "obj.greet()\n",
        "\n"
      ],
      "metadata": {
        "colab": {
          "base_uri": "https://localhost:8080/"
        },
        "id": "EEn47NYHfKs8",
        "outputId": "4208e7ef-7c6b-4b2a-bbd7-6700ef3cee4a"
      },
      "execution_count": null,
      "outputs": [
        {
          "output_type": "stream",
          "name": "stdout",
          "text": [
            "Hello\n"
          ]
        }
      ]
    },
    {
      "cell_type": "markdown",
      "source": [
        "Use default arguments, *args, **kwargs, or functools.singledispatch to achieve similar behavior."
      ],
      "metadata": {
        "id": "UKOS5S1XfVLX"
      }
    },
    {
      "cell_type": "markdown",
      "source": [
        "**12. What is method overriding in OOP ?**"
      ],
      "metadata": {
        "id": "SvHY8MZGfuO9"
      }
    },
    {
      "cell_type": "markdown",
      "source": [
        "### ***Method Overriding (in OOP)***\n",
        "\n",
        "Method overriding happens when a child class (subclass) defines a method with the same name, same parameters, and same return type as a method in its parent class (superclass).\n",
        "\n",
        "* The child’s method replaces (overrides) the parent’s method when called through the child class object.\n",
        "\n",
        "* It is a key feature of runtime polymorphism in OOP.\n"
      ],
      "metadata": {
        "id": "Qao38R_Xf7HN"
      }
    },
    {
      "cell_type": "markdown",
      "source": [
        "***Rules of Method Overriding -***\n",
        "\n",
        "* Method name must be the same.\n",
        "\n",
        "* Parameters should be the same (otherwise it’s not overriding).\n",
        "\n",
        "* Done between a base class and a derived class.\n",
        "\n",
        "\n",
        "* Child class method gets priority when invoked using a child object .\n",
        "\n",
        "\n",
        "Example -\n"
      ],
      "metadata": {
        "id": "sxCSRoRfgc9x"
      }
    },
    {
      "cell_type": "code",
      "source": [
        "class Humans:\n",
        "    def sound(self):\n",
        "        print(\"Humans Speaks\")\n",
        "\n",
        "class Cat(Humans):\n",
        "    def sound(self):  # Overriding the parent method\n",
        "        print(\"Cats meoww\")\n",
        "\n",
        "# Usage\n",
        "a = Humans()\n",
        "a.sound()\n",
        "\n",
        "d = Cat()\n",
        "d.sound()\n"
      ],
      "metadata": {
        "colab": {
          "base_uri": "https://localhost:8080/"
        },
        "id": "fvhEHzbihClm",
        "outputId": "73303d2e-b3cc-467f-caf4-af6502a4488c"
      },
      "execution_count": null,
      "outputs": [
        {
          "output_type": "stream",
          "name": "stdout",
          "text": [
            "Humans Speaks\n",
            "Cats meoww\n"
          ]
        }
      ]
    },
    {
      "cell_type": "markdown",
      "source": [
        "**13. What is property decorator in Python ?**"
      ],
      "metadata": {
        "id": "JmIqb2-7iS6h"
      }
    },
    {
      "cell_type": "markdown",
      "source": [
        "In Python, the `@property` decorator is used to define methods in a class that can be accessed like attributes.\n",
        "\n",
        "It allows you to add getter, setter, and deleter functionality to class attributes without directly exposing them.\n",
        "\n"
      ],
      "metadata": {
        "id": "jmyjEJzOYXoZ"
      }
    },
    {
      "cell_type": "markdown",
      "source": [
        "***Why use `@property` ?***\n",
        "\n",
        "* Makes code cleaner and more readable.\n",
        "\n",
        "* Lets you enforce validation or computation logic when accessing or modifying attributes.\n",
        "\n",
        "* Provides a way to protect private attributes (_variable) while still allowing controlled access.\n",
        "\n",
        "\n",
        "Example :"
      ],
      "metadata": {
        "id": "6EunO06pYkFG"
      }
    },
    {
      "cell_type": "code",
      "source": [
        "class Person:\n",
        "    def __init__(self, name, age):\n",
        "        self._name = name         # private attribute\n",
        "        self._age = age\n",
        "\n",
        "    @property\n",
        "    def age(self):               # getter\n",
        "        return self._age\n",
        "\n",
        "    @age.setter\n",
        "    def age(self, value):        # setter\n",
        "        if value < 0:\n",
        "            raise ValueError(\"Age cannot be negative\")\n",
        "        self._age = value\n",
        "\n",
        "    @age.deleter\n",
        "    def age(self):               # deleter\n",
        "        print(\"Age deleted\")\n",
        "        del self._age\n",
        "\n",
        "# Usage\n",
        "p = Person(\"Nakul Kumar Verma\", 25)\n",
        "\n",
        "print(p.age)       # calls the getter → 25\n",
        "p.age = 30         # calls the setter\n",
        "del p.age          # calls the deleter\n"
      ],
      "metadata": {
        "colab": {
          "base_uri": "https://localhost:8080/"
        },
        "id": "cCi_SDL5ZN1E",
        "outputId": "2b3a3e5c-f5b1-4ea6-c4dd-64fdcfa5dfea"
      },
      "execution_count": null,
      "outputs": [
        {
          "output_type": "stream",
          "name": "stdout",
          "text": [
            "25\n",
            "Age deleted\n"
          ]
        }
      ]
    },
    {
      "cell_type": "markdown",
      "source": [
        "**14. Why is polymorphism important in OOP ?**"
      ],
      "metadata": {
        "id": "rjLmGT_rbSm0"
      }
    },
    {
      "cell_type": "markdown",
      "source": [
        "Polymorphism is one of the core pillars of Object-Oriented Programming (OOP), along with encapsulation, inheritance, and abstraction."
      ],
      "metadata": {
        "id": "hcQVurW8btqE"
      }
    },
    {
      "cell_type": "markdown",
      "source": [
        "***What is Polymorphism ?***"
      ],
      "metadata": {
        "id": "YhBneIZcb7ro"
      }
    },
    {
      "cell_type": "markdown",
      "source": [
        "The word polymorphism means “many forms.”\n",
        "In OOP, polymorphism allows objects of different classes to be treated as objects of a common parent class, while each object can still behave in its own way.\n",
        "\n",
        "Example :-\n",
        "\n",
        " You can call the same method name (`draw()`, `speak()`, `area()`) on different objects, and each object will respond according to its own class implementation."
      ],
      "metadata": {
        "id": "YBboKHJ2cIjr"
      }
    },
    {
      "cell_type": "markdown",
      "source": [
        "(1) Code Reusability -\n",
        "\n",
        "* You can write generic code that works with different types of objects.\n",
        "\n",
        "Example -\n",
        "\n",
        "A function that accepts a `Shape` object can work with `Circle`, `Square`, or `Triangle`.\n",
        "\n",
        "(2) Flexibilty and Extensibility -\n",
        "\n",
        "* New classes can be added with minimal changes to existing code.\n",
        "\n",
        "Example -\n",
        "\n",
        "Adding a new `Rectangle` class won’t require rewriting the `draw()` function.\n",
        "\n",
        "(3) Simplifies Code (Readability & Maintainability) -\n",
        "\n",
        "* Instead of writing multiple `if/else` checks for object types, you just call the same method and let polymorphism handle the correct behavior.\n"
      ],
      "metadata": {
        "id": "ZnAT3RvEcn9p"
      }
    },
    {
      "cell_type": "markdown",
      "source": [
        "(4) Support the \"Open/Closed Principle\"(SOLID design principle) -\n",
        "\n",
        "* Software should be open to extension but closed to modification.\n",
        "\n",
        "* With polymorphism, you can extend functionality by adding new subclasses without altering existing logic.\n",
        "\n",
        "Example -"
      ],
      "metadata": {
        "id": "wswEBgdveSWj"
      }
    },
    {
      "cell_type": "code",
      "source": [
        "class Animal:\n",
        "    def speak(self):\n",
        "        pass   # base method (to be overridden)\n",
        "\n",
        "class Dog(Animal):\n",
        "    def speak(self):\n",
        "        return \"Dog Woof!\"\n",
        "\n",
        "class Cat(Animal):\n",
        "    def speak(self):\n",
        "        return \"Cat Meow!\"\n",
        "\n",
        "# Polymorphism in action\n",
        "animals = [Dog(), Cat()]\n",
        "\n",
        "for animal in animals:\n",
        "    print(animal.speak())\n"
      ],
      "metadata": {
        "colab": {
          "base_uri": "https://localhost:8080/"
        },
        "id": "yQMqrmM_eyWU",
        "outputId": "702b5777-0e21-4ef5-fff0-a3dd0f4de12b"
      },
      "execution_count": null,
      "outputs": [
        {
          "output_type": "stream",
          "name": "stdout",
          "text": [
            "Dog Woof!\n",
            "Cat Meow!\n"
          ]
        }
      ]
    },
    {
      "cell_type": "markdown",
      "source": [
        "**15. What is an abstract class in Python ?**"
      ],
      "metadata": {
        "id": "42HvoMmse_9G"
      }
    },
    {
      "cell_type": "markdown",
      "source": [
        "In Python, an abstract class is a class that is designed to be a blueprint for other classes.\n",
        "\n",
        "It can define abstract methods (methods with no implementation) that must be implemented in any subclass that inherits from it.\n",
        "\n",
        "Python provides abstract classes through the `abc` (Abstract Base Class) module."
      ],
      "metadata": {
        "id": "b8Hs3ewdfL5C"
      }
    },
    {
      "cell_type": "markdown",
      "source": [
        "***Why use Abstract Classes ?***\n",
        "\n",
        "* To enforce a common interface across subclasses.\n",
        "\n",
        "* To ensure certain methods must be overridden by child classes.\n",
        "\n",
        "* To achieve abstraction (hiding implementation details, only exposing functionality).\n"
      ],
      "metadata": {
        "id": "LwDJzZF2fYJN"
      }
    },
    {
      "cell_type": "code",
      "source": [
        " # Defining Absstract Class\n",
        "\n",
        "from abc import ABC, abstractmethod\n",
        "\n",
        "class Animal(ABC):   # Inherit from ABC\n",
        "    @abstractmethod\n",
        "    def speak(self):   # Abstract method (no body)\n",
        "        pass\n"
      ],
      "metadata": {
        "id": "BGTjPx1Sf16E"
      },
      "execution_count": null,
      "outputs": []
    },
    {
      "cell_type": "code",
      "source": [
        "# Using Abstract Class\n",
        "\n",
        "class Dog(Animal):\n",
        "    def speak(self):\n",
        "        return \"Woof!\"\n",
        "\n",
        "class Cat(Animal):\n",
        "    def speak(self):\n",
        "        return \"Meow!\"\n",
        "\n",
        "# Usage\n",
        "animals = [Dog(), Cat()]\n",
        "for a in animals:\n",
        "    print(a.speak())\n"
      ],
      "metadata": {
        "colab": {
          "base_uri": "https://localhost:8080/"
        },
        "id": "5myP8kwRf5j9",
        "outputId": "04716f70-d32f-4394-c197-19d93864d697"
      },
      "execution_count": null,
      "outputs": [
        {
          "output_type": "stream",
          "name": "stdout",
          "text": [
            "Woof!\n",
            "Meow!\n"
          ]
        }
      ]
    },
    {
      "cell_type": "markdown",
      "source": [
        "**16. What are the advantages of OOP ?**"
      ],
      "metadata": {
        "id": "FF1W82SagiRU"
      }
    },
    {
      "cell_type": "markdown",
      "source": [
        "### ***Advantages of OOP -***\n",
        "\n",
        "(1) Modularity(Code Organization) -\n",
        "\n",
        "* OOP organizes code into classes and objects, making it easier to understand, manage, and debug.\n",
        "\n",
        "* Each class is like a \"module\" that can be worked on independently.\n"
      ],
      "metadata": {
        "id": "2PxkRwYxguLF"
      }
    },
    {
      "cell_type": "markdown",
      "source": [
        "(2) Reusability -\n",
        "\n",
        "* Classes and objects can be reused across different programs.\n",
        "\n",
        "* Through inheritance, you can extend existing functionality without rewriting code.\n",
        "\n"
      ],
      "metadata": {
        "id": "odkIggd6hTfj"
      }
    },
    {
      "cell_type": "markdown",
      "source": [
        "(3) Encapsulation (Data Hiding) -\n",
        "\n",
        "* Internal details of an object can be hidden using private attributes and controlled with getters/setters (or `@property`).\n",
        "\n",
        "* This protects data from unintended modification and improves security.\n"
      ],
      "metadata": {
        "id": "AeVxayzohg3Z"
      }
    },
    {
      "cell_type": "markdown",
      "source": [
        "(4) Polymorphism(Flexibility) -\n",
        "\n",
        "* The same method name can work differently depending on the object.\n",
        "\n",
        "* This makes code more flexible and reduces the need for multiple `if/else` checks.\n",
        "\n"
      ],
      "metadata": {
        "id": "aUs9fWBth5km"
      }
    },
    {
      "cell_type": "markdown",
      "source": [
        "(5) Abstraction (Simplicity) -\n",
        "\n",
        "* Complex implementation details are hidden, and only essential features are exposed.\n",
        "\n",
        "* Abstract classes and methods define a blueprint for other classes.\n"
      ],
      "metadata": {
        "id": "AvJiA0SziP_e"
      }
    },
    {
      "cell_type": "markdown",
      "source": [
        "(6) Maintainbility -\n",
        "\n",
        "* OOP code is easier to update and maintain because related data and behavior are grouped together.\n",
        "\n",
        "* Changes in one part of the system often don’t affect the rest.\n"
      ],
      "metadata": {
        "id": "8fGNGedLiiBp"
      }
    },
    {
      "cell_type": "markdown",
      "source": [
        "(7) Scalability -\n",
        "\n",
        "* OOP makes it easier to build large, complex systems because you can break them down into smaller, manageable objects.\n"
      ],
      "metadata": {
        "id": "hGjd6w5bizKD"
      }
    },
    {
      "cell_type": "markdown",
      "source": [
        "(8) Real-World Modeling -\n",
        "\n",
        "* OOP naturally models real-world entities (like `Car`, `Employee`, `BankAccount`) using objects.\n",
        "\n",
        "* This makes it intuitive to design and reason about programs.\n",
        "\n",
        "Example -"
      ],
      "metadata": {
        "id": "qJYYhJexjGSG"
      }
    },
    {
      "cell_type": "code",
      "source": [
        "class BankAccount:\n",
        "    def __init__(self, owner, balance=0):\n",
        "        self.owner = owner\n",
        "        self._balance = balance   # encapsulated\n",
        "\n",
        "    def deposit(self, amount):\n",
        "        self._balance += amount\n",
        "\n",
        "    def withdraw(self, amount):\n",
        "        if amount <= self._balance:\n",
        "            self._balance -= amount\n",
        "        else:\n",
        "            print(\"Insufficient funds\")\n",
        "\n",
        "    def get_balance(self):\n",
        "        return self._balance\n",
        "\n",
        "# Reusability & Modularity\n",
        "acc1 = BankAccount(\"Alice\", 1000)\n",
        "acc1.deposit(500)\n",
        "print(acc1.get_balance())   # 1500\n"
      ],
      "metadata": {
        "id": "0PzBOIp8jlPp",
        "outputId": "0813feeb-500c-4281-a827-19b4a593e0bf",
        "colab": {
          "base_uri": "https://localhost:8080/"
        }
      },
      "execution_count": null,
      "outputs": [
        {
          "output_type": "stream",
          "name": "stdout",
          "text": [
            "1500\n"
          ]
        }
      ]
    },
    {
      "cell_type": "markdown",
      "source": [
        "**17. What is the difference between a class variable and an instance variable ?**\n",
        "\n",
        "(1) Instance Variable -\n",
        "\n",
        "* Defined inside a constructor (`__init__`) or inside methods using `self`.\n",
        "\n",
        "* Belongs to each object (instance) of the class.\n",
        "\n",
        "* Each object gets its own copy of the variable.\n",
        "\n",
        "* Changing it in one object does not affect other objects.\n",
        "\n",
        "Example -"
      ],
      "metadata": {
        "id": "Zkk8p-r4KJSf"
      }
    },
    {
      "cell_type": "code",
      "source": [
        "class Car:\n",
        "    def __init__(self, color):\n",
        "        self.color = color  # instance variable\n",
        "\n",
        "car1 = Car(\"Red\")\n",
        "car2 = Car(\"Blue\")\n",
        "\n",
        "print(car1.color)\n",
        "print(car2.color)\n"
      ],
      "metadata": {
        "colab": {
          "base_uri": "https://localhost:8080/"
        },
        "id": "l3-8eWgaLtYF",
        "outputId": "a68222b3-b190-4207-fc4a-627405ae7e25"
      },
      "execution_count": null,
      "outputs": [
        {
          "output_type": "stream",
          "name": "stdout",
          "text": [
            "Red\n",
            "Blue\n"
          ]
        }
      ]
    },
    {
      "cell_type": "markdown",
      "source": [
        "(2) Class Variable -\n",
        "\n",
        "* Declared inside the class but outside methods.\n",
        "\n",
        "* Shared by all objects of the class.\n",
        "\n",
        "* Only one copy exists, and changing it affects all objects (unless overridden in an instance).\n",
        "\n",
        "Example -\n"
      ],
      "metadata": {
        "id": "b5P3LqC9MFOa"
      }
    },
    {
      "cell_type": "code",
      "source": [
        "class Car:\n",
        "    wheels = 4  # class variable (shared by all instances)\n",
        "\n",
        "    def __init__(self, color):\n",
        "        self.color = color  # instance variable\n",
        "\n",
        "car1 = Car(\"Red\")\n",
        "car2 = Car(\"Blue\")\n",
        "\n",
        "print(car1.wheels)\n",
        "print(car2.wheels)\n",
        "\n",
        "Car.wheels = 6\n",
        "print(car1.wheels)\n",
        "print(car2.wheels)\n"
      ],
      "metadata": {
        "colab": {
          "base_uri": "https://localhost:8080/"
        },
        "id": "yMvEr28qMdrE",
        "outputId": "f0224d50-660a-45fd-9c86-68066c5cdab1"
      },
      "execution_count": null,
      "outputs": [
        {
          "output_type": "stream",
          "name": "stdout",
          "text": [
            "4\n",
            "4\n",
            "6\n",
            "6\n"
          ]
        }
      ]
    },
    {
      "cell_type": "markdown",
      "source": [
        "**18. What is multiple inheritance in Python ?**"
      ],
      "metadata": {
        "id": "6wluljVBM9Hq"
      }
    },
    {
      "cell_type": "markdown",
      "source": [
        "Multiple inheritance in Python is a feature that allows a class to inherit from more than one parent class.\n",
        "\n",
        "This means a child class can access attributes and methods from multiple base classes.\n",
        "\n",
        "***Syntax :***\n"
      ],
      "metadata": {
        "id": "HIzmng_SNxxu"
      }
    },
    {
      "cell_type": "code",
      "source": [
        "class Parent1:\n",
        "    def method1(self):\n",
        "        print(\"This is method from Parent1\")\n",
        "\n",
        "class Parent2:\n",
        "    def method2(self):\n",
        "        print(\"This is method from Parent2\")\n",
        "\n",
        "class Child(Parent1, Parent2):\n",
        "    def method3(self):\n",
        "        print(\"This is method from Child\")\n",
        "\n",
        "# Example usage\n",
        "obj = Child()\n",
        "obj.method1()\n",
        "obj.method2()\n",
        "obj.method3()\n"
      ],
      "metadata": {
        "colab": {
          "base_uri": "https://localhost:8080/"
        },
        "id": "GKEfCnuvN8qz",
        "outputId": "c6f540a0-53e0-4def-863b-6dd3f402d426"
      },
      "execution_count": null,
      "outputs": [
        {
          "output_type": "stream",
          "name": "stdout",
          "text": [
            "This is method from Parent1\n",
            "This is method from Parent2\n",
            "This is method from Child\n"
          ]
        }
      ]
    },
    {
      "cell_type": "markdown",
      "source": [
        "**19. Explain the purpose of `__str__` and `__repr__` methods in Python .**"
      ],
      "metadata": {
        "id": "jcBVGrRxOvgA"
      }
    },
    {
      "cell_type": "markdown",
      "source": [
        "Great question! In Python, both `__str__` and `__repr__` are special (dunder) methods that define how an object is represented as a string. While they look similar, they serve different purposes:"
      ],
      "metadata": {
        "id": "_SqKXXPOPhCF"
      }
    },
    {
      "cell_type": "markdown",
      "source": [
        "###***`__str__ ` (User-Friendly String)***\n",
        "\n",
        "* Purpose: Defines the human-readable string representation of an object.\n",
        "\n",
        "* It’s meant to be informal and easy to understand.\n",
        "\n",
        "* Called when you use:\n",
        "\n",
        "   (l) `str(obj)`\n",
        "\n",
        "   (ll) `print(obj)`\n"
      ],
      "metadata": {
        "id": "WskHejf3P-WL"
      }
    },
    {
      "cell_type": "markdown",
      "source": [
        "###***`__repr__`(Developer-Friendly String)***\n",
        "\n",
        "* Purpose: Defines the official string representation of an object.\n",
        "\n",
        "* It’s meant to be unambiguous and useful for debugging.\n",
        "\n",
        "* Called when you use:\n",
        "\n",
        "   (l)  `repr(obj)`\n",
        "\n",
        "   (ll)  Typing the object's name in the interpreter\n",
        "\n",
        "* Ideally, it should return a string that could recreate the object if passed to `eval()` (though not always possible).\n",
        "\n",
        "Example -\n"
      ],
      "metadata": {
        "id": "_dmnAgljQ7Is"
      }
    },
    {
      "cell_type": "code",
      "source": [
        "class Book:\n",
        "    def __init__(self, title, author):\n",
        "        self.title = title\n",
        "        self.author = author\n",
        "\n",
        "    def __str__(self):\n",
        "        return f\"'{self.title}' by {self.author}\"  # User-friendly\n",
        "\n",
        "    def __repr__(self):\n",
        "        return f\"Book(title='{self.title}', author='{self.author}')\"  # Debug/developer-friendly\n",
        "\n",
        "\n",
        "# Usage\n",
        "b = Book(\"1984\", \"George Orwell\")\n",
        "\n",
        "print(str(b))\n",
        "print(repr(b))\n",
        "print(b)\n"
      ],
      "metadata": {
        "colab": {
          "base_uri": "https://localhost:8080/"
        },
        "id": "ULffZ7F9SM3K",
        "outputId": "79360fe5-ed97-4f55-84ad-201716582054"
      },
      "execution_count": null,
      "outputs": [
        {
          "output_type": "stream",
          "name": "stdout",
          "text": [
            "'1984' by George Orwell\n",
            "Book(title='1984', author='George Orwell')\n",
            "'1984' by George Orwell\n"
          ]
        }
      ]
    },
    {
      "cell_type": "markdown",
      "source": [
        "**20. What is the significance of the `super()` function in Python ?**"
      ],
      "metadata": {
        "id": "U8EyQVjfTiUm"
      }
    },
    {
      "cell_type": "markdown",
      "source": [
        "The `super()` function in Python is used to give access to methods and properties of a parent (or superclass) from within a child (or subclass).\n",
        "\n",
        "It is especially important in inheritance because it allows you to call methods (like constructors or overridden methods) from the parent class without explicitly naming it."
      ],
      "metadata": {
        "id": "P7cdFkTAUala"
      }
    },
    {
      "cell_type": "markdown",
      "source": [
        "***Significance of `super()`***\n",
        "\n",
        "**(1) Avoids Hardcoding the Parent Class Name**\n",
        "\n",
        "Instead of writing `ParentClass.method(self)`, you use `super().method()`.\n",
        "\n",
        "\n",
        "This makes your code more maintainable and flexible (if you later change the parent class, you don’t need to update all references).\n"
      ],
      "metadata": {
        "id": "SI9gaAGpYJSC"
      }
    },
    {
      "cell_type": "markdown",
      "source": [
        "**(2) Supports Multiple Inheritance**\n",
        "\n",
        "In Python, multiple inheritance is possible. `super()` follows the Method Resolution Order (MRO), ensuring that each parent class is called only once in a consistent order.\n",
        "\n",
        "This prevents issues like duplicate calls when classes share common ancestors (Diamond problem)."
      ],
      "metadata": {
        "id": "Q3zH9GQGa9fa"
      }
    },
    {
      "cell_type": "markdown",
      "source": [
        "**(3) Simplifies Constructor Chaining**\n",
        "\n",
        "When initializing a subclass, you can call the parent class’s `__init__` using `super()`, so that all necessary setup from parent classes is done.\n",
        "\n",
        "\n",
        "***Example : Single Inheritance***"
      ],
      "metadata": {
        "id": "bk75rduubeKt"
      }
    },
    {
      "cell_type": "code",
      "source": [
        "class Parent:\n",
        "    def __init__(self):\n",
        "        print(\"Parent constructor\")\n",
        "\n",
        "class Child(Parent):\n",
        "    def __init__(self):\n",
        "        super().__init__()  # Calls Parent's constructor\n",
        "        print(\"Child constructor\")\n",
        "\n",
        "obj = Child()\n"
      ],
      "metadata": {
        "colab": {
          "base_uri": "https://localhost:8080/"
        },
        "id": "eqbhO8t4cA2T",
        "outputId": "9ad09eb3-cc6c-43fd-97e8-eaa4eb5aeb31"
      },
      "execution_count": null,
      "outputs": [
        {
          "output_type": "stream",
          "name": "stdout",
          "text": [
            "Parent constructor\n",
            "Child constructor\n"
          ]
        }
      ]
    },
    {
      "cell_type": "markdown",
      "source": [
        "***Example : Multiple Inheritance***"
      ],
      "metadata": {
        "id": "Dv0Fh3XJc6c8"
      }
    },
    {
      "cell_type": "code",
      "source": [
        "class A:\n",
        "    def __init__(self):\n",
        "        print(\"A\")\n",
        "        super().__init__()\n",
        "\n",
        "class B:\n",
        "    def __init__(self):\n",
        "        print(\"B\")\n",
        "        super().__init__()\n",
        "\n",
        "class C(A, B):\n",
        "    def __init__(self):\n",
        "        print(\"C\")\n",
        "        super().__init__()\n",
        "\n",
        "obj = C()\n"
      ],
      "metadata": {
        "colab": {
          "base_uri": "https://localhost:8080/"
        },
        "id": "_vHW5HP2dFTM",
        "outputId": "eaf64f92-a0a1-45d5-bd05-250a7d5e2b63"
      },
      "execution_count": null,
      "outputs": [
        {
          "output_type": "stream",
          "name": "stdout",
          "text": [
            "C\n",
            "A\n",
            "B\n"
          ]
        }
      ]
    },
    {
      "cell_type": "markdown",
      "source": [
        "**21. What is the significance of the `__del__` method in Python ?**"
      ],
      "metadata": {
        "id": "LZslN8h0dKYd"
      }
    },
    {
      "cell_type": "markdown",
      "source": [
        "The `__del__` method in Python is a destructor method, which is automatically called when an object is about to be destroyed (i.e., when it is no longer referenced, and the garbage collector is about to reclaim its memory)."
      ],
      "metadata": {
        "id": "sE6b2LGtdVXE"
      }
    },
    {
      "cell_type": "markdown",
      "source": [
        "###**Significance of `__del__` :**\n",
        "\n",
        "**(1) Resource Cleanup**\n",
        "\n",
        "It allows you to define custom cleanup actions before an object is destroyed—for example, closing a file, releasing a network connection, or freeing up memory."
      ],
      "metadata": {
        "id": "st7Nirdvzkmc"
      }
    },
    {
      "cell_type": "code",
      "source": [
        "class FileHandler:\n",
        "    def __init__(self, filename):\n",
        "        self.file = open(filename, \"w\")\n",
        "        print(\"File opened\")\n",
        "\n",
        "    def __del__(self):\n",
        "        self.file.close()\n",
        "        print(\"File closed\")\n",
        "\n",
        "obj = FileHandler(\"test.txt\")\n",
        "del obj\n"
      ],
      "metadata": {
        "colab": {
          "base_uri": "https://localhost:8080/"
        },
        "id": "EejZcy4U0C1d",
        "outputId": "6b679809-ed52-47f9-ccfd-a4018bf3163f"
      },
      "execution_count": null,
      "outputs": [
        {
          "output_type": "stream",
          "name": "stdout",
          "text": [
            "File opened\n",
            "File closed\n"
          ]
        }
      ]
    },
    {
      "cell_type": "markdown",
      "source": [
        "**(2) Automatic Invocation**\n",
        "\n",
        "You don’t call `__del__` directly. It is automatically invoked by Python when the reference count of the object reaches zero ."
      ],
      "metadata": {
        "id": "Tg6buZL81K3m"
      }
    },
    {
      "cell_type": "markdown",
      "source": [
        "**(3) Acts LIke a Destructor in Other Languages**\n",
        "\n",
        "Similar to destructors in C++ and Java (though Python’s garbage collection is different) ."
      ],
      "metadata": {
        "id": "5qYWMt8-1eDo"
      }
    },
    {
      "cell_type": "markdown",
      "source": [
        "**22.  What is the difference between `@staticmethod` and `@classmethod` in Python ?**"
      ],
      "metadata": {
        "id": "zXkf7hQj1zY7"
      }
    },
    {
      "cell_type": "markdown",
      "source": [
        "In Python, both `@staticmethod` and `@classmethod` are decorators used to define methods that behave differently from normal instance methods."
      ],
      "metadata": {
        "id": "5hk5dRcn3Amr"
      }
    },
    {
      "cell_type": "markdown",
      "source": [
        "###**`@Staticmethod` -**\n",
        "\n",
        "* Does not take `self` or `cls` as the first argument.\n",
        "\n",
        "* Behaves like a normal function, but lives inside the class’s namespace.\n",
        "\n",
        "* Cannot access or modify instance state (`self`) or class state (`cls`) directly.\n",
        "\n",
        "* Used when the method logically belongs to the class but doesn’t need class or instance data.\n",
        "\n",
        "**Example -**"
      ],
      "metadata": {
        "id": "UFdqzWHD3KhN"
      }
    },
    {
      "cell_type": "code",
      "source": [
        "class MathUtils:\n",
        "    @staticmethod\n",
        "    def add(a, b):\n",
        "        return a + b\n",
        "\n",
        "print(MathUtils.add(3, 5))\n"
      ],
      "metadata": {
        "colab": {
          "base_uri": "https://localhost:8080/"
        },
        "id": "l9yOlhHj32NX",
        "outputId": "b1b7a6ab-9476-441e-f674-2acfab9ef60e"
      },
      "execution_count": null,
      "outputs": [
        {
          "output_type": "stream",
          "name": "stdout",
          "text": [
            "8\n"
          ]
        }
      ]
    },
    {
      "cell_type": "markdown",
      "source": [
        "###**`@Classmethod` -**\n",
        "\n",
        "* Takes `cls` (class reference) as the first argument.\n",
        "\n",
        "* Can access and modify class-level variables, but not instance variables.\n",
        "\n",
        "* Often used for factory methods that create class instances in different ways.\n",
        "\n",
        "**Example -**"
      ],
      "metadata": {
        "id": "Tbbqeaz139cN"
      }
    },
    {
      "cell_type": "code",
      "source": [
        "class Person:\n",
        "    species = \"Human\"\n",
        "\n",
        "    def __init__(self, name):\n",
        "        self.name = name\n",
        "\n",
        "    @classmethod\n",
        "    def from_string(cls, name_str):\n",
        "        return cls(name_str)  # returns a new Person object\n",
        "\n",
        "p = Person.from_string(\"Alice\")\n",
        "print(p.name)\n",
        "print(Person.species)\n"
      ],
      "metadata": {
        "colab": {
          "base_uri": "https://localhost:8080/"
        },
        "id": "nXluQ_cn4XE0",
        "outputId": "db8922ee-bd53-4d7c-edca-d15b32a2bd12"
      },
      "execution_count": null,
      "outputs": [
        {
          "output_type": "stream",
          "name": "stdout",
          "text": [
            "Alice\n",
            "Human\n"
          ]
        }
      ]
    },
    {
      "cell_type": "markdown",
      "source": [
        "**23. How does polymorphism work in Python with inheritance ?**\n",
        "\n",
        "**Polymorphism** means \"many forms\".\n",
        "In OOP, it allows objects of different classes to be treated through the same interface, as long as they share a common method name.\n",
        "\n",
        "In Python, polymorphism often works through inheritance: a base class defines a method, and derived classes provide their own implementation of that method (method overriding).\n"
      ],
      "metadata": {
        "id": "qRgIIHCF4p3n"
      }
    },
    {
      "cell_type": "markdown",
      "source": [
        "###**Polymorphism with Inheritance(Method Overriding)**\n",
        "\n",
        "\n",
        "**Example -**"
      ],
      "metadata": {
        "id": "J33bp_ka5UMz"
      }
    },
    {
      "cell_type": "code",
      "source": [
        "class Animal:\n",
        "    def speak(self):\n",
        "        return \"Some sound\"\n",
        "\n",
        "class Dog(Animal):\n",
        "    def speak(self):\n",
        "        return \"Woof!\"\n",
        "\n",
        "class Cat(Animal):\n",
        "    def speak(self):\n",
        "        return \"Meow!\"\n",
        "\n",
        "# Using polymorphism\n",
        "animals = [Dog(), Cat(), Animal()]\n",
        "\n",
        "for animal in animals:\n",
        "    print(animal.speak())\n"
      ],
      "metadata": {
        "colab": {
          "base_uri": "https://localhost:8080/"
        },
        "id": "jJTOpZa55ntS",
        "outputId": "94325fc5-ba22-4804-8a40-bdbe784678d8"
      },
      "execution_count": null,
      "outputs": [
        {
          "output_type": "stream",
          "name": "stdout",
          "text": [
            "Woof!\n",
            "Meow!\n",
            "Some sound\n"
          ]
        }
      ]
    },
    {
      "cell_type": "markdown",
      "source": [
        "**24. What is method chaining in Python OOP ?**\n",
        "\n",
        "Method chaining is a technique in OOP where multiple methods are called sequentially on the same object in a single line, because each method returns the object itself (`self`).\n",
        "\n",
        "**Example -**"
      ],
      "metadata": {
        "id": "x3fgFqMi5s87"
      }
    },
    {
      "cell_type": "code",
      "source": [
        "class Calculator:\n",
        "    def __init__(self, value=0):\n",
        "        self.value = value\n",
        "\n",
        "    def add(self, num):\n",
        "        self.value += num\n",
        "        return self   # returning self for chaining\n",
        "\n",
        "    def multiply(self, num):\n",
        "        self.value *= num\n",
        "        return self   # returning self for chaining\n",
        "\n",
        "    def subtract(self, num):\n",
        "        self.value -= num\n",
        "        return self   # returning self for chaining\n",
        "\n",
        "    def result(self):\n",
        "        return self.value\n",
        "\n",
        "\n",
        "# Using method chaining\n",
        "calc = Calculator()\n",
        "result = calc.add(10).multiply(5).subtract(3).result()\n",
        "print(result)\n"
      ],
      "metadata": {
        "colab": {
          "base_uri": "https://localhost:8080/"
        },
        "id": "JpmcqVPM6FuK",
        "outputId": "da0992bd-ede6-43e7-d6dd-83e6e586f484"
      },
      "execution_count": null,
      "outputs": [
        {
          "output_type": "stream",
          "name": "stdout",
          "text": [
            "47\n"
          ]
        }
      ]
    },
    {
      "cell_type": "markdown",
      "source": [
        "**25. What is the purpose of the __call__ method in Python ?**\n",
        "\n",
        "The `__call__` method in Python is a special method (a “dunder” method) that allows an object of a class to be called like a function.\n",
        "\n",
        "If a class defines `__call__`, then its instances can be invoked using the function call syntax:\n",
        "\n",
        "obj()"
      ],
      "metadata": {
        "id": "tQeqtzRT6N9J"
      }
    },
    {
      "cell_type": "markdown",
      "source": [
        "###**Purpose of `__call__` :-**"
      ],
      "metadata": {
        "id": "54In3E3-64MU"
      }
    },
    {
      "cell_type": "markdown",
      "source": [
        "**(1) Make objects callable like functions -**\n",
        "\n",
        "* Lets you treat an object both as data (with attributes) and as behavior (like a function).\n",
        "\n",
        "**(2) Encapsulate behavior with state -**\n",
        "\n",
        "* Useful when you need a function-like object that remembers data between calls.\n",
        "\n",
        "**(3) Alternative of functions or closures -**\n",
        "\n",
        "* Sometimes cleaner than writing a separate function.\n",
        "\n",
        " **Example - Simple Callable Object**"
      ],
      "metadata": {
        "id": "aqhJytDM7HMN"
      }
    },
    {
      "cell_type": "code",
      "source": [
        "class Greeter:\n",
        "    def __init__(self, name):\n",
        "        self.name = name\n",
        "\n",
        "    def __call__(self):\n",
        "        return f\"Hello, {self.name}!\"\n",
        "\n",
        "greet = Greeter(\"Alice\")\n",
        "print(greet())\n"
      ],
      "metadata": {
        "colab": {
          "base_uri": "https://localhost:8080/"
        },
        "id": "nlNum4QT8Jsx",
        "outputId": "fbb31a0c-fbea-43f4-cb61-e2d2875f8887"
      },
      "execution_count": null,
      "outputs": [
        {
          "output_type": "stream",
          "name": "stdout",
          "text": [
            "Hello, Alice!\n"
          ]
        }
      ]
    },
    {
      "cell_type": "markdown",
      "source": [
        "**Example - Callable with State**"
      ],
      "metadata": {
        "id": "35YxF9Yr8RLc"
      }
    },
    {
      "cell_type": "code",
      "source": [
        "class Counter:\n",
        "    def __init__(self):\n",
        "        self.count = 0\n",
        "\n",
        "    def __call__(self):\n",
        "        self.count += 1\n",
        "        return self.count\n",
        "\n",
        "counter = Counter()\n",
        "print(counter())\n",
        "print(counter())\n",
        "print(counter())\n"
      ],
      "metadata": {
        "colab": {
          "base_uri": "https://localhost:8080/"
        },
        "id": "v19MutA978Vq",
        "outputId": "fa98ce4c-53a7-4eed-ac22-63e15afb9749"
      },
      "execution_count": null,
      "outputs": [
        {
          "output_type": "stream",
          "name": "stdout",
          "text": [
            "1\n",
            "2\n",
            "3\n"
          ]
        }
      ]
    },
    {
      "cell_type": "markdown",
      "source": [
        "**Example - Practical Use Case(Function Wrappers)**"
      ],
      "metadata": {
        "id": "AtpBlLgE8dSc"
      }
    },
    {
      "cell_type": "code",
      "source": [
        "class Multiplier:\n",
        "    def __init__(self, factor):\n",
        "        self.factor = factor\n",
        "\n",
        "    def __call__(self, x):\n",
        "        return x * self.factor\n",
        "\n",
        "double = Multiplier(2)\n",
        "triple = Multiplier(3)\n",
        "\n",
        "print(double(5))\n",
        "print(triple(5))\n"
      ],
      "metadata": {
        "colab": {
          "base_uri": "https://localhost:8080/"
        },
        "id": "ON6hpybY8w2Q",
        "outputId": "8a17f137-3d4a-4145-8158-94ed39c93a59"
      },
      "execution_count": null,
      "outputs": [
        {
          "output_type": "stream",
          "name": "stdout",
          "text": [
            "10\n",
            "15\n"
          ]
        }
      ]
    },
    {
      "cell_type": "markdown",
      "source": [
        "#***Practical Questions***:"
      ],
      "metadata": {
        "id": "5uSHVkG_8_Gw"
      }
    },
    {
      "cell_type": "markdown",
      "source": [
        "**1. . Create a parent class Animal with a method `speak()` that prints a generic message. Create a child class Dog\n",
        "that overrides the `speak()` method to print \"Bark!\".**"
      ],
      "metadata": {
        "id": "iuJQmMOs9TkJ"
      }
    },
    {
      "cell_type": "code",
      "source": [
        "# Parent class\n",
        "class Animal:\n",
        "    def speak(self):\n",
        "        print(\"This animal makes a sound.\")\n",
        "\n",
        "# Child class\n",
        "class Dog(Animal):\n",
        "    def speak(self):\n",
        "        print(\"Bark!\")\n",
        "\n",
        "# Example usage\n",
        "a = Animal()\n",
        "a.speak()\n",
        "\n",
        "d = Dog()\n",
        "d.speak()\n"
      ],
      "metadata": {
        "colab": {
          "base_uri": "https://localhost:8080/"
        },
        "id": "z6Uyy-DMDxFk",
        "outputId": "c7d9c12b-ff9a-4ad0-8a83-488943fa05e4"
      },
      "execution_count": 1,
      "outputs": [
        {
          "output_type": "stream",
          "name": "stdout",
          "text": [
            "This animal makes a sound.\n",
            "Bark!\n"
          ]
        }
      ]
    },
    {
      "cell_type": "markdown",
      "source": [
        "**2. Write a program to create an abstract class Shape with a method `area()`. Derive classes Circle and Rectangle\n",
        "from it and implement the `area()` method in both.**"
      ],
      "metadata": {
        "id": "jHHNBGuyEny9"
      }
    },
    {
      "cell_type": "code",
      "source": [
        "from abc import ABC, abstractmethod\n",
        "import math\n",
        "\n",
        "# Abstract class\n",
        "class Shape(ABC):\n",
        "    @abstractmethod\n",
        "    def area(self):\n",
        "        pass\n",
        "\n",
        "# Derived class: Circle\n",
        "class Circle(Shape):\n",
        "    def __init__(self, radius):\n",
        "        self.radius = radius\n",
        "\n",
        "    def area(self):\n",
        "        return math.pi * self.radius * self.radius\n",
        "\n",
        "# Derived class: Rectangle\n",
        "class Rectangle(Shape):\n",
        "    def __init__(self, length, width):\n",
        "        self.length = length\n",
        "        self.width = width\n",
        "\n",
        "    def area(self):\n",
        "        return self.length * self.width\n",
        "\n",
        "# Example usage\n",
        "c = Circle(5)\n",
        "print(\"Area of Circle:\", c.area())\n",
        "\n",
        "r = Rectangle(4, 6)\n",
        "print(\"Area of Rectangle:\", r.area())\n"
      ],
      "metadata": {
        "colab": {
          "base_uri": "https://localhost:8080/"
        },
        "id": "oMdPJ9-iEzeq",
        "outputId": "cbee175c-b825-422b-d531-e3591a39c12a"
      },
      "execution_count": 2,
      "outputs": [
        {
          "output_type": "stream",
          "name": "stdout",
          "text": [
            "Area of Circle: 78.53981633974483\n",
            "Area of Rectangle: 24\n"
          ]
        }
      ]
    },
    {
      "cell_type": "markdown",
      "source": [
        "**3. Implement a multi-level inheritance scenario where a class Vehicle has an attribute type. Derive a class Car\n",
        "and further derive a class ElectricCar that adds a battery attribute.**"
      ],
      "metadata": {
        "id": "vxt5FSjAE9um"
      }
    },
    {
      "cell_type": "code",
      "source": [
        "# Base class\n",
        "class Vehicle:\n",
        "    def __init__(self, vehicle_type):\n",
        "        self.vehicle_type = vehicle_type\n",
        "\n",
        "    def display_info(self):\n",
        "        print(f\"Vehicle Type: {self.vehicle_type}\")\n",
        "\n",
        "# Derived class from Vehicle\n",
        "class Car(Vehicle):\n",
        "    def __init__(self, vehicle_type, brand):\n",
        "        super().__init__(vehicle_type)\n",
        "        self.brand = brand\n",
        "\n",
        "    def display_info(self):\n",
        "        super().display_info()\n",
        "        print(f\"Brand: {self.brand}\")\n",
        "\n",
        "# Further derived class from Car\n",
        "class ElectricCar(Car):\n",
        "    def __init__(self, vehicle_type, brand, battery_capacity):\n",
        "        super().__init__(vehicle_type, brand)\n",
        "        self.battery_capacity = battery_capacity\n",
        "\n",
        "    def display_info(self):\n",
        "        super().display_info()\n",
        "        print(f\"Battery Capacity: {self.battery_capacity} kWh\")\n",
        "\n",
        "# Example usage\n",
        "e_car = ElectricCar(\"Four-wheeler\", \"Tesla\", 85)\n",
        "e_car.display_info()\n"
      ],
      "metadata": {
        "colab": {
          "base_uri": "https://localhost:8080/"
        },
        "id": "70sqJAVkFIha",
        "outputId": "79b6d917-7d5f-4094-f7c2-21ee1358a176"
      },
      "execution_count": 3,
      "outputs": [
        {
          "output_type": "stream",
          "name": "stdout",
          "text": [
            "Vehicle Type: Four-wheeler\n",
            "Brand: Tesla\n",
            "Battery Capacity: 85 kWh\n"
          ]
        }
      ]
    },
    {
      "cell_type": "markdown",
      "source": [
        "**4. Demonstrate polymorphism by creating a base class Bird with a method `fly()`. Create two derived classes\n",
        "Sparrow and Penguin that override the `fly()` method.**"
      ],
      "metadata": {
        "id": "325Tje01FNkF"
      }
    },
    {
      "cell_type": "code",
      "source": [
        "# Base class\n",
        "class Bird:\n",
        "    def fly(self):\n",
        "        print(\"Some birds can fly.\")\n",
        "\n",
        "# Derived class: Sparrow\n",
        "class Sparrow(Bird):\n",
        "    def fly(self):\n",
        "        print(\"Sparrow can fly high in the sky!\")\n",
        "\n",
        "# Derived class: Penguin\n",
        "class Penguin(Bird):\n",
        "    def fly(self):\n",
        "        print(\"Penguins cannot fly, but they swim very well!\")\n",
        "\n",
        "# Example usage\n",
        "birds = [Sparrow(), Penguin()]\n",
        "\n",
        "for bird in birds:\n",
        "    bird.fly()\n"
      ],
      "metadata": {
        "colab": {
          "base_uri": "https://localhost:8080/"
        },
        "id": "WrQz8BlbFaQ3",
        "outputId": "59268647-0161-4926-9d3b-28a738c4c442"
      },
      "execution_count": 4,
      "outputs": [
        {
          "output_type": "stream",
          "name": "stdout",
          "text": [
            "Sparrow can fly high in the sky!\n",
            "Penguins cannot fly, but they swim very well!\n"
          ]
        }
      ]
    },
    {
      "cell_type": "markdown",
      "source": [
        "**5. Write a program to demonstrate encapsulation by creating a class BankAccount with private attributes\n",
        "balance and methods to deposit, withdraw, and check balance.**"
      ],
      "metadata": {
        "id": "oqCQNjidFhM1"
      }
    },
    {
      "cell_type": "code",
      "source": [
        "class BankAccount:\n",
        "    def __init__(self, initial_balance=0):\n",
        "        self.__balance = initial_balance   # private attribute\n",
        "\n",
        "    # Method to deposit money\n",
        "    def deposit(self, amount):\n",
        "        if amount > 0:\n",
        "            self.__balance += amount\n",
        "            print(f\"Deposited: {amount}\")\n",
        "        else:\n",
        "            print(\"Deposit amount must be positive.\")\n",
        "\n",
        "    # Method to withdraw money\n",
        "    def withdraw(self, amount):\n",
        "        if 0 < amount <= self.__balance:\n",
        "            self.__balance -= amount\n",
        "            print(f\"Withdrew: {amount}\")\n",
        "        else:\n",
        "            print(\"Insufficient balance or invalid amount.\")\n",
        "\n",
        "    # Method to check balance\n",
        "    def check_balance(self):\n",
        "        print(f\"Current Balance: {self.__balance}\")\n",
        "\n",
        "\n",
        "# Example usage\n",
        "account = BankAccount(100)\n",
        "account.check_balance()\n",
        "\n",
        "account.deposit(50)\n",
        "account.check_balance()\n",
        "\n",
        "account.withdraw(70)\n",
        "account.check_balance()\n",
        "\n",
        "# Trying to access private variable directly will raise an AttributeError\n",
        "# print(account.__balance)\n",
        "\n",
        "# Accessing using name mangling (not recommended for general use)\n",
        "print(f\"Accessing mangled name: {account._BankAccount__balance}\")\n",
        "\n",
        "# Accessing using the public method (recommended)\n",
        "print(\"Accessing using check_balance method:\")\n",
        "account.check_balance()"
      ],
      "metadata": {
        "colab": {
          "base_uri": "https://localhost:8080/"
        },
        "id": "r_3tvlVUF958",
        "outputId": "bbd14e91-d253-4dee-f162-497ccd87cfd4"
      },
      "execution_count": 6,
      "outputs": [
        {
          "output_type": "stream",
          "name": "stdout",
          "text": [
            "Current Balance: 100\n",
            "Deposited: 50\n",
            "Current Balance: 150\n",
            "Withdrew: 70\n",
            "Current Balance: 80\n",
            "Accessing mangled name: 80\n",
            "Accessing using check_balance method:\n",
            "Current Balance: 80\n"
          ]
        }
      ]
    },
    {
      "cell_type": "markdown",
      "source": [
        "**6. Demonstrate runtime polymorphism using a method `play()` in a base class Instrument. Derive classes Guitar\n",
        "and Piano that implement their own version of `play()` .**"
      ],
      "metadata": {
        "id": "RuAUHxOtLVML"
      }
    },
    {
      "cell_type": "code",
      "source": [
        "# Base class\n",
        "class Instrument:\n",
        "    def play(self):\n",
        "        print(\"This instrument makes a sound.\")\n",
        "\n",
        "# Derived class: Guitar\n",
        "class Guitar(Instrument):\n",
        "    def play(self):\n",
        "        print(\"Playing the guitar: Strum strum!\")\n",
        "\n",
        "# Derived class: Piano\n",
        "class Piano(Instrument):\n",
        "    def play(self):\n",
        "        print(\"Playing the piano: Plink plonk!\")\n",
        "\n",
        "# Example usage\n",
        "instruments = [Guitar(), Piano()]\n",
        "\n",
        "for instrument in instruments:\n",
        "    instrument.play()\n"
      ],
      "metadata": {
        "colab": {
          "base_uri": "https://localhost:8080/"
        },
        "id": "FuCalqXCL1I3",
        "outputId": "541ceac8-d200-4922-fccd-8af4c60197c2"
      },
      "execution_count": 7,
      "outputs": [
        {
          "output_type": "stream",
          "name": "stdout",
          "text": [
            "Playing the guitar: Strum strum!\n",
            "Playing the piano: Plink plonk!\n"
          ]
        }
      ]
    },
    {
      "cell_type": "markdown",
      "source": [
        "**7. Create a class MathOperations with a class method `add_numbers()` to add two numbers and a static\n",
        "method `subtract_numbers()` to subtract two numbers.**"
      ],
      "metadata": {
        "id": "3-caSQFmL6cV"
      }
    },
    {
      "cell_type": "code",
      "source": [
        "class MathOperations:\n",
        "    # Class method to add two numbers\n",
        "    @classmethod\n",
        "    def add_numbers(cls, a, b):\n",
        "        return a + b\n",
        "\n",
        "    # Static method to subtract two numbers\n",
        "    @staticmethod\n",
        "    def subtract_numbers(a, b):\n",
        "        return a - b\n",
        "\n",
        "\n",
        "# Example usage\n",
        "print(\"Addition:\", MathOperations.add_numbers(10, 5))\n",
        "print(\"Subtraction:\", MathOperations.subtract_numbers(10, 5))\n"
      ],
      "metadata": {
        "colab": {
          "base_uri": "https://localhost:8080/"
        },
        "id": "gXyPmjvOMdTp",
        "outputId": "c9c54e2f-b4b9-4a0e-bde9-2a3d0f0525bf"
      },
      "execution_count": 8,
      "outputs": [
        {
          "output_type": "stream",
          "name": "stdout",
          "text": [
            "Addition: 15\n",
            "Subtraction: 5\n"
          ]
        }
      ]
    },
    {
      "cell_type": "markdown",
      "source": [
        "**8. . Implement a class Person with a class method to count the total number of persons created .**"
      ],
      "metadata": {
        "id": "tNR0zzpcMnU0"
      }
    },
    {
      "cell_type": "code",
      "source": [
        "class Person:\n",
        "    # Class variable to keep track of count\n",
        "    count = 0\n",
        "\n",
        "    def __init__(self, name):\n",
        "        self.name = name\n",
        "        Person.count += 1   # Increment count whenever a new object is created\n",
        "\n",
        "    # Class method to get total number of persons\n",
        "    @classmethod\n",
        "    def total_persons(cls):\n",
        "        return cls.count\n",
        "\n",
        "\n",
        "# Example usage\n",
        "p1 = Person(\"Alice\")\n",
        "p2 = Person(\"Bob\")\n",
        "p3 = Person(\"Charlie\")\n",
        "\n",
        "print(\"Total persons created:\", Person.total_persons())\n"
      ],
      "metadata": {
        "colab": {
          "base_uri": "https://localhost:8080/"
        },
        "id": "a-fq5g_3Ms6k",
        "outputId": "31829766-249d-4e83-f17f-a295d42e6135"
      },
      "execution_count": 9,
      "outputs": [
        {
          "output_type": "stream",
          "name": "stdout",
          "text": [
            "Total persons created: 3\n"
          ]
        }
      ]
    },
    {
      "cell_type": "markdown",
      "source": [
        "**9. Write a class Fraction with attributes numerator and denominator. Override the str method to display the\n",
        "fraction as \"numerator/denominator\".**"
      ],
      "metadata": {
        "id": "qo0aU6WiM5U0"
      }
    },
    {
      "cell_type": "code",
      "source": [
        "class Fraction:\n",
        "    def __init__(self, numerator, denominator):\n",
        "        if denominator == 0:\n",
        "            raise ValueError(\"Denominator cannot be zero.\")\n",
        "        self.numerator = numerator\n",
        "        self.denominator = denominator\n",
        "\n",
        "    # Overriding __str__ method\n",
        "    def __str__(self):\n",
        "        return f\"{self.numerator}/{self.denominator}\"\n",
        "\n",
        "\n",
        "# Example usage\n",
        "f1 = Fraction(3, 4)\n",
        "f2 = Fraction(7, 2)\n",
        "\n",
        "print(f1)\n",
        "print(f2)\n"
      ],
      "metadata": {
        "colab": {
          "base_uri": "https://localhost:8080/"
        },
        "id": "CpgA1gJTNEVD",
        "outputId": "79e0494d-404c-4994-dd2b-96b073498172"
      },
      "execution_count": 10,
      "outputs": [
        {
          "output_type": "stream",
          "name": "stdout",
          "text": [
            "3/4\n",
            "7/2\n"
          ]
        }
      ]
    },
    {
      "cell_type": "markdown",
      "source": [
        "**10. Demonstrate operator overloading by creating a class Vector and overriding the add method to add two\n",
        "vectors.**"
      ],
      "metadata": {
        "id": "ktiX6IMdNnmv"
      }
    },
    {
      "cell_type": "code",
      "source": [
        "class Vector:\n",
        "    def __init__(self, x, y):\n",
        "        self.x = x\n",
        "        self.y = y\n",
        "\n",
        "    # Overriding + operator\n",
        "    def __add__(self, other):\n",
        "        return Vector(self.x + other.x, self.y + other.y)\n",
        "\n",
        "    # For nice string representation\n",
        "    def __str__(self):\n",
        "        return f\"({self.x}, {self.y})\"\n",
        "\n",
        "\n",
        "# Example usage\n",
        "v1 = Vector(2, 3)\n",
        "v2 = Vector(4, 5)\n",
        "\n",
        "v3 = v1 + v2\n",
        "\n",
        "print(\"v1:\", v1)\n",
        "print(\"v2:\", v2)\n",
        "print(\"v1 + v2 =\", v3)"
      ],
      "metadata": {
        "colab": {
          "base_uri": "https://localhost:8080/"
        },
        "id": "vGaqX1YYOPhd",
        "outputId": "e920573e-c5f4-4749-a527-f2ae9f96dfa9"
      },
      "execution_count": 11,
      "outputs": [
        {
          "output_type": "stream",
          "name": "stdout",
          "text": [
            "v1: (2, 3)\n",
            "v2: (4, 5)\n",
            "v1 + v2 = (6, 8)\n"
          ]
        }
      ]
    },
    {
      "cell_type": "markdown",
      "source": [
        "**11. Create a class Person with attributes name and age. Add a method `greet()` that prints \"Hello, my name is\n",
        "{name} and I am {age} years old\".**"
      ],
      "metadata": {
        "id": "WZ_5bmTYOZ9S"
      }
    },
    {
      "cell_type": "code",
      "source": [
        "class Person:\n",
        "    def __init__(self, name, age):\n",
        "        self.name = name\n",
        "        self.age = age\n",
        "\n",
        "    # Method to greet\n",
        "    def greet(self):\n",
        "        print(f\"Hello, my name is {self.name} and I am {self.age} years old.\")\n",
        "\n",
        "\n",
        "# Example usage\n",
        "p1 = Person(\"Nakul Kumar Verma\", 25)\n",
        "p2 = Person(\"Komal\", 23)\n",
        "\n",
        "p1.greet()\n",
        "p2.greet()\n"
      ],
      "metadata": {
        "colab": {
          "base_uri": "https://localhost:8080/"
        },
        "id": "Ca-jxwRROpmQ",
        "outputId": "89f4f4bc-a7fe-49c8-8162-79839ddbb855"
      },
      "execution_count": 12,
      "outputs": [
        {
          "output_type": "stream",
          "name": "stdout",
          "text": [
            "Hello, my name is Nakul Kumar Verma and I am 25 years old.\n",
            "Hello, my name is Komal and I am 23 years old.\n"
          ]
        }
      ]
    },
    {
      "cell_type": "markdown",
      "source": [
        "**12. Implement a class Student with attributes name and grades. Create a method `average_grade()` to compute\n",
        "the average of the grades.**"
      ],
      "metadata": {
        "id": "X_rLpjmQO5AD"
      }
    },
    {
      "cell_type": "code",
      "source": [
        "class Student:\n",
        "    def __init__(self, name, grades):\n",
        "        self.name = name\n",
        "        self.grades = grades  # List of numeric grades\n",
        "\n",
        "    # Method to compute average grade\n",
        "    def average_grade(self):\n",
        "        if not self.grades:\n",
        "            return 0  # Avoid division by zero\n",
        "        return sum(self.grades) / len(self.grades)\n",
        "\n",
        "\n",
        "# Example usage\n",
        "s1 = Student(\"Nakul\", [85, 90, 78, 92])\n",
        "s2 = Student(\"Komal\", [95, 92, 98])\n",
        "\n",
        "print(f\"{s1.name}'s average grade: {s1.average_grade():.2f}\")\n",
        "print(f\"{s2.name}'s average grade: {s2.average_grade():.2f}\")\n"
      ],
      "metadata": {
        "colab": {
          "base_uri": "https://localhost:8080/"
        },
        "id": "FIHPFC8fPDCG",
        "outputId": "74619a5a-8c69-41a5-b36a-0adfc75bf9ac"
      },
      "execution_count": 15,
      "outputs": [
        {
          "output_type": "stream",
          "name": "stdout",
          "text": [
            "Nakul's average grade: 86.25\n",
            "Komal's average grade: 95.00\n"
          ]
        }
      ]
    },
    {
      "cell_type": "markdown",
      "source": [
        "**13. . Create a class Rectangle with methods `set_dimensions()` to set the dimensions and `area()` to calculate the\n",
        "area.**"
      ],
      "metadata": {
        "id": "fsmGD-jSPdIy"
      }
    },
    {
      "cell_type": "code",
      "source": [
        "class Rectangle:\n",
        "    def __init__(self):\n",
        "        self.length = 0\n",
        "        self.width = 0\n",
        "\n",
        "    # Method to set dimensions\n",
        "    def set_dimensions(self, length, width):\n",
        "        self.length = length\n",
        "        self.width = width\n",
        "\n",
        "    # Method to calculate area\n",
        "    def area(self):\n",
        "        return self.length * self.width\n",
        "\n",
        "\n",
        "# Example usage\n",
        "rect = Rectangle()\n",
        "rect.set_dimensions(5, 3)\n",
        "print(\"Area of Rectangle:\", rect.area())\n"
      ],
      "metadata": {
        "colab": {
          "base_uri": "https://localhost:8080/"
        },
        "id": "pzwOPPX9PtnY",
        "outputId": "b951556f-2eed-43f4-bba6-8abdd53fdd02"
      },
      "execution_count": 16,
      "outputs": [
        {
          "output_type": "stream",
          "name": "stdout",
          "text": [
            "Area of Rectangle: 15\n"
          ]
        }
      ]
    },
    {
      "cell_type": "markdown",
      "source": [
        "**14. Create a class Employee with a method `calculate_salary()` that computes the salary based on hours worked\n",
        "and hourly rate. Create a derived class Manager that adds a bonus to the salary .**"
      ],
      "metadata": {
        "id": "4YKOarJnP0tY"
      }
    },
    {
      "cell_type": "code",
      "source": [
        "# Base class\n",
        "class Employee:\n",
        "    def __init__(self, name, hours_worked, hourly_rate):\n",
        "        self.name = name\n",
        "        self.hours_worked = hours_worked\n",
        "        self.hourly_rate = hourly_rate\n",
        "\n",
        "    # Method to calculate salary\n",
        "    def calculate_salary(self):\n",
        "        return self.hours_worked * self.hourly_rate\n",
        "\n",
        "\n",
        "# Derived class\n",
        "class Manager(Employee):\n",
        "    def __init__(self, name, hours_worked, hourly_rate, bonus):\n",
        "        super().__init__(name, hours_worked, hourly_rate)\n",
        "        self.bonus = bonus\n",
        "\n",
        "    # Overriding calculate_salary to include bonus\n",
        "    def calculate_salary(self):\n",
        "        base_salary = super().calculate_salary()\n",
        "        return base_salary + self.bonus\n",
        "\n",
        "\n",
        "# Example usage\n",
        "emp = Employee(\"Nakul\", 40, 20)\n",
        "mgr = Manager(\"Komal\", 40, 25, 500)\n",
        "\n",
        "print(f\"{emp.name}'s Salary: ${emp.calculate_salary()}\")\n",
        "print(f\"{mgr.name}'s Salary: ${mgr.calculate_salary()}\")\n"
      ],
      "metadata": {
        "colab": {
          "base_uri": "https://localhost:8080/"
        },
        "id": "5Lhhj5yMQDwz",
        "outputId": "7a1c7c8a-03d6-4255-eb2b-25a8a7932086"
      },
      "execution_count": 18,
      "outputs": [
        {
          "output_type": "stream",
          "name": "stdout",
          "text": [
            "Nakul's Salary: $800\n",
            "Komal's Salary: $1500\n"
          ]
        }
      ]
    },
    {
      "cell_type": "markdown",
      "source": [
        "**15. Create a class Product with attributes name, price, and quantity. Implement a method `total_price()` that\n",
        "calculates the total price of the product.**"
      ],
      "metadata": {
        "id": "P0fvVKYpQUGv"
      }
    },
    {
      "cell_type": "code",
      "source": [
        "class Product:\n",
        "    def __init__(self, name, price, quantity):\n",
        "        self.name = name\n",
        "        self.price = price\n",
        "        self.quantity = quantity\n",
        "\n",
        "    # Method to calculate total price\n",
        "    def total_price(self):\n",
        "        return self.price * self.quantity\n",
        "\n",
        "\n",
        "# Example usage\n",
        "p1 = Product(\"Laptop\", 800, 2)\n",
        "p2 = Product(\"Mouse\", 25, 5)\n",
        "\n",
        "print(f\"Total price of {p1.name}: ${p1.total_price()}\")\n",
        "print(f\"Total price of {p2.name}: ${p2.total_price()}\")\n"
      ],
      "metadata": {
        "colab": {
          "base_uri": "https://localhost:8080/"
        },
        "id": "64ptVGr1Qip5",
        "outputId": "393dc2b9-35c7-4f6f-bed5-ccd35db3679f"
      },
      "execution_count": 19,
      "outputs": [
        {
          "output_type": "stream",
          "name": "stdout",
          "text": [
            "Total price of Laptop: $1600\n",
            "Total price of Mouse: $125\n"
          ]
        }
      ]
    },
    {
      "cell_type": "markdown",
      "source": [
        "**16. Create a class Animal with an abstract method `sound()`. Create two derived classes `Cow` and `Sheep` that\n",
        "implement the `sound()` method.**"
      ],
      "metadata": {
        "id": "SYdw8uYYQpBW"
      }
    },
    {
      "cell_type": "code",
      "source": [
        "from abc import ABC, abstractmethod\n",
        "\n",
        "# Abstract base class\n",
        "class Animal(ABC):\n",
        "    @abstractmethod\n",
        "    def sound(self):\n",
        "        pass\n",
        "\n",
        "# Derived class: Cow\n",
        "class Cow(Animal):\n",
        "    def sound(self):\n",
        "        print(\"Cow says Moo!\")\n",
        "\n",
        "# Derived class: Sheep\n",
        "class Sheep(Animal):\n",
        "    def sound(self):\n",
        "        print(\"Sheep says Baa!\")\n",
        "\n",
        "\n",
        "# Example usage\n",
        "animals = [Cow(), Sheep()]\n",
        "\n",
        "for animal in animals:\n",
        "    animal.sound()\n"
      ],
      "metadata": {
        "colab": {
          "base_uri": "https://localhost:8080/"
        },
        "id": "ZPsTSUqnQ6Wr",
        "outputId": "45afff62-32a7-416d-a154-109416bc8d8a"
      },
      "execution_count": 20,
      "outputs": [
        {
          "output_type": "stream",
          "name": "stdout",
          "text": [
            "Cow says Moo!\n",
            "Sheep says Baa!\n"
          ]
        }
      ]
    },
    {
      "cell_type": "markdown",
      "source": [
        "**17. Create a class Book with attributes title, author, and `year_published`. Add a method `get_book_info()` that\n",
        "returns a formatted string with the book's details.**"
      ],
      "metadata": {
        "id": "EVAMtaFYQ-mJ"
      }
    },
    {
      "cell_type": "code",
      "source": [
        "class Book:\n",
        "    def __init__(self, title, author, year_published):\n",
        "        self.title = title\n",
        "        self.author = author\n",
        "        self.year_published = year_published\n",
        "\n",
        "    # Method to return book info\n",
        "    def get_book_info(self):\n",
        "        return f\"'{self.title}' by {self.author}, published in {self.year_published}\"\n",
        "\n",
        "\n",
        "# Example usage\n",
        "book1 = Book(\"1984\", \"George Orwell\", 1949)\n",
        "book2 = Book(\"To Kill a Mockingbird\", \"Harper Lee\", 1960)\n",
        "\n",
        "print(book1.get_book_info())\n",
        "print(book2.get_book_info())"
      ],
      "metadata": {
        "colab": {
          "base_uri": "https://localhost:8080/"
        },
        "id": "pZuGRlqaRMhm",
        "outputId": "99c45484-ac0b-4d1a-ac0b-56b3a0a46f81"
      },
      "execution_count": 21,
      "outputs": [
        {
          "output_type": "stream",
          "name": "stdout",
          "text": [
            "'1984' by George Orwell, published in 1949\n",
            "'To Kill a Mockingbird' by Harper Lee, published in 1960\n"
          ]
        }
      ]
    },
    {
      "cell_type": "markdown",
      "source": [
        "**18. Create a class House with attributes address and price. Create a derived class Mansion that adds an\n",
        "attribute `number_of_rooms`.**"
      ],
      "metadata": {
        "id": "7ALBRmt9RUzo"
      }
    },
    {
      "cell_type": "code",
      "source": [
        "# Base class\n",
        "class House:\n",
        "    def __init__(self, address, price):\n",
        "        self.address = address\n",
        "        self.price = price\n",
        "\n",
        "    def display_info(self):\n",
        "        print(f\"Address: {self.address}, Price: ${self.price}\")\n",
        "\n",
        "\n",
        "# Derived class\n",
        "class Mansion(House):\n",
        "    def __init__(self, address, price, number_of_rooms):\n",
        "        super().__init__(address, price)\n",
        "        self.number_of_rooms = number_of_rooms\n",
        "\n",
        "    def display_info(self):\n",
        "        super().display_info()\n",
        "        print(f\"Number of rooms: {self.number_of_rooms}\")\n",
        "\n",
        "\n",
        "# Example usage\n",
        "house = House(\"123 Maple Street\", 250000)\n",
        "mansion = Mansion(\"1 Beverly Hills\", 5000000, 12)\n",
        "\n",
        "house.display_info()\n",
        "\n",
        "mansion.display_info()\n"
      ],
      "metadata": {
        "colab": {
          "base_uri": "https://localhost:8080/"
        },
        "id": "EJRMWo17Rgck",
        "outputId": "8dcf746a-baa8-4b14-fa91-5543377c16d9"
      },
      "execution_count": 22,
      "outputs": [
        {
          "output_type": "stream",
          "name": "stdout",
          "text": [
            "Address: 123 Maple Street, Price: $250000\n",
            "Address: 1 Beverly Hills, Price: $5000000\n",
            "Number of rooms: 12\n"
          ]
        }
      ]
    }
  ]
}